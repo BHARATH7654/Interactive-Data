{
 "cells": [
  {
   "cell_type": "markdown",
   "id": "8889bec9",
   "metadata": {},
   "source": [
    "# This is main heading"
   ]
  },
  {
   "cell_type": "markdown",
   "id": "b6a45f2f",
   "metadata": {},
   "source": [
    "## This is a sub heading"
   ]
  },
  {
   "cell_type": "markdown",
   "id": "7d5ca432",
   "metadata": {},
   "source": [
    "This is a normal sentence"
   ]
  },
  {
   "cell_type": "markdown",
   "id": "efa8e67b",
   "metadata": {},
   "source": [
    "**this is a bold sentence**"
   ]
  },
  {
   "cell_type": "markdown",
   "id": "584791c9",
   "metadata": {},
   "source": [
    "*This is italic*"
   ]
  },
  {
   "cell_type": "markdown",
   "id": "7b73df3f",
   "metadata": {},
   "source": [
    "**Creative and Interactive Data Skills**: Learn to build engaging and interactive data experiences using Python, showcasing creativity in *data visualization* and *application development*.\n",
    "\n",
    "**CRISP-DM Application and Evaluation**: Acquire and critically evaluate the application of the CRISP-DM framework, a key methodology in data mining projects.\n",
    "\n",
    "**Insightful Real-World Data Analysis**: Develop the ability to extract meaningful insights from messy, real-world data sets through computational analysis."
   ]
  },
  {
   "cell_type": "code",
   "execution_count": 1,
   "id": "956a28d6",
   "metadata": {},
   "outputs": [
    {
     "name": "stdout",
     "output_type": "stream",
     "text": [
      "98\n"
     ]
    }
   ],
   "source": [
    "# variable assignment\n",
    "x=98\n",
    "print(x)"
   ]
  },
  {
   "cell_type": "code",
   "execution_count": 2,
   "id": "7230a3d0",
   "metadata": {},
   "outputs": [
    {
     "name": "stdout",
     "output_type": "stream",
     "text": [
      "17\n",
      "25\n",
      "38\n",
      "499\n",
      "9000\n"
     ]
    }
   ],
   "source": [
    "#for loop\n",
    "for i in [17,25,38,499,9000]:\n",
    "    print(i)"
   ]
  },
  {
   "cell_type": "code",
   "execution_count": 3,
   "id": "a9277aed",
   "metadata": {},
   "outputs": [],
   "source": [
    "# a function with a print statement\n",
    "x=98\n",
    "y=2\n",
    "def sum(x,y):\n",
    "    print(x+y)"
   ]
  },
  {
   "cell_type": "code",
   "execution_count": 4,
   "id": "63837931",
   "metadata": {},
   "outputs": [
    {
     "name": "stdout",
     "output_type": "stream",
     "text": [
      "100\n"
     ]
    }
   ],
   "source": [
    "sum(x,y)"
   ]
  },
  {
   "cell_type": "code",
   "execution_count": 5,
   "id": "0594ebd5",
   "metadata": {},
   "outputs": [],
   "source": [
    "# function with a return statement\n",
    "def multi(x,y):\n",
    "    return x*y"
   ]
  },
  {
   "cell_type": "code",
   "execution_count": 6,
   "id": "5c402ca3",
   "metadata": {},
   "outputs": [
    {
     "data": {
      "text/plain": [
       "196"
      ]
     },
     "execution_count": 6,
     "metadata": {},
     "output_type": "execute_result"
    }
   ],
   "source": [
    "multi(x,y)"
   ]
  },
  {
   "cell_type": "code",
   "execution_count": null,
   "id": "1a6985e2",
   "metadata": {},
   "outputs": [],
   "source": []
  }
 ],
 "metadata": {
  "kernelspec": {
   "display_name": "Python 3 (ipykernel)",
   "language": "python",
   "name": "python3"
  },
  "language_info": {
   "codemirror_mode": {
    "name": "ipython",
    "version": 3
   },
   "file_extension": ".py",
   "mimetype": "text/x-python",
   "name": "python",
   "nbconvert_exporter": "python",
   "pygments_lexer": "ipython3",
   "version": "3.10.13"
  }
 },
 "nbformat": 4,
 "nbformat_minor": 5
}
